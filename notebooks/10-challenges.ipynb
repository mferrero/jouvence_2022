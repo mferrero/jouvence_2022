{
 "cells": [
  {
   "cell_type": "markdown",
   "metadata": {
    "cell_style": "center",
    "slideshow": {
     "slide_type": "slide"
    }
   },
   "source": [
    "# A couple of challenges\n",
    "\n",
    "If you have some time and want to practice your Monte Carlo skills, you can try to solve the\n",
    "following small problems."
   ]
  },
  {
   "cell_type": "code",
   "execution_count": 1,
   "metadata": {
    "slideshow": {
     "slide_type": "notes"
    }
   },
   "outputs": [],
   "source": [
    "%matplotlib inline\n",
    "import matplotlib.pyplot as plt\n",
    "import numpy as np"
   ]
  },
  {
   "cell_type": "markdown",
   "metadata": {
    "cell_style": "center",
    "slideshow": {
     "slide_type": "slide"
    }
   },
   "source": [
    "## Markov chain algorithm to evaluate $\\pi$\n",
    "\n",
    "Let us pretend for a second that we do not know how to generate a uniform distribution\n",
    "of pebbles on the $[-1,1]^2$ square using direct sampling. We instead want to use a\n",
    "Markov chain algorithm. You can let a \"walker\" evolve over the surface of the square\n",
    "by updating its position randomly by a small step within a square $[-\\delta, \\delta]^2$\n",
    "around its position. One of the questions we will try to answer is how we should choose the\n",
    "parameter $\\delta$.\n",
    "\n",
    "1. If you want to have a uniform distribution, what do you need to do when a proposed\n",
    "move of the walker brings you out of the square?\n",
    "\n",
    "2. Pick some value for $\\delta$ and check your algorithm by computing $\\pi$ and also the error bar\n",
    "after $N$ steps. Remember that the positions are correlated!\n",
    "\n",
    "3. Change your code slightly in order to keep track of the proportion of moves that lead to\n",
    "a change of position. This is called the *acceptance rate*.\n",
    "\n",
    "4.  By scanning several values for $\\delta$ figure out which one yields the best\n",
    "statistical error bar for the same computational effort. What is (more or less)\n",
    "the value of the acceptance rate for the optimal $\\delta$?\n",
    "\n",
    "The answer to this question is sometimes referred to as the *Thumb rule*."
   ]
  },
  {
   "cell_type": "code",
   "execution_count": null,
   "metadata": {},
   "outputs": [],
   "source": []
  },
  {
   "cell_type": "markdown",
   "metadata": {
    "cell_style": "center",
    "slideshow": {
     "slide_type": "slide"
    }
   },
   "source": [
    "## Heat bath algorithm\n",
    "\n",
    "Let us consider the Ising model. We have seen one possible way to update the configurations by\n",
    "choosing a spin and flipping it with a Metropolis-Hastings algorithm. Here, we consider\n",
    "another algorithm which is called *heat bath*. The idea is to pick a spin randomly and\n",
    "then to update it to $+1$ or $-1$ with respective probabilities\n",
    "\n",
    "$$\n",
    "\\pi_+ = \\frac{1}{1 + e^{-2 \\beta h}} \\qquad\n",
    "\\pi_- = \\frac{1}{1 + e^{2 \\beta h}} \\qquad\n",
    "h = \\sum_{i \\in \\text{neighbors of site}} \\sigma_i\n",
    "$$\n",
    "\n",
    "where $h$ is the molecular field felt by the chosen site.\n",
    "\n",
    "1. Show that the heat bath algorithm leads to a sampling of configurations according\n",
    "  to the Boltzmann distribution.\n",
    "\n",
    "2. Implement this algorithm and check that it give results compatible to the\n",
    "  Metropolis-Hastings algorithm. You may use a $6 \\times 6$ lattice and\n",
    "  temperatures between 0.5 and 4.0.\n"
   ]
  },
  {
   "cell_type": "code",
   "execution_count": null,
   "metadata": {},
   "outputs": [],
   "source": []
  },
  {
   "cell_type": "markdown",
   "metadata": {
    "cell_style": "center",
    "slideshow": {
     "slide_type": "slide"
    }
   },
   "source": [
    "## Cluster algorithm\n",
    "\n",
    "Let us again consider the Ising model. We will now study a cluster algorithm called the\n",
    "*Wolff algorithm*. It is a rejection-free algorithm that generates flips for multiple\n",
    "spins inside a cluster at the same time. The great advantage of\n",
    "cluster algorithms is that they do not suffer from the same critical slowdown as single-spin-flip\n",
    "algorithms do close to the phase transition.\n",
    "\n",
    "In the Wolff cluster algorithm, we grow a cluster with the following procedure:\n",
    "\n",
    "- Suppose we have already started constructing a cluster with all spins aligned\n",
    "\n",
    "- Pick a site on the border of the cluster and identify its neighbors that are\n",
    "  outside of the cluster\n",
    "  \n",
    "- If some of the neighbors are aligned with the spins in the cluster, include them\n",
    "  in the cluster with probability\n",
    "  \n",
    "  $$p=1-\\exp(-2\\beta)$$\n",
    "  \n",
    "- Continue by picking the other spins on the border\n",
    "\n",
    "- Proceed until the cluster stops growing\n",
    "\n",
    "- Eventually flip all the spins in the cluster\n",
    "\n",
    "At the very beginning, we start the construction of the cluster by choosing a random\n",
    "site that forms an initial cluster of size 1.\n",
    "\n",
    "1. Try to implement the Wolff algorithm and compare it to the usual single-spin-flip\n",
    "  algorithm. You can consider a $6 \\times 6$ lattice and a temperature around 3.\n",
    "  \n",
    "2. Show that the Wolff algorithm satisfies the detailed balance."
   ]
  },
  {
   "cell_type": "code",
   "execution_count": null,
   "metadata": {},
   "outputs": [],
   "source": []
  }
 ],
 "metadata": {
  "kernelspec": {
   "display_name": "Python 3",
   "language": "python",
   "name": "python3"
  },
  "language_info": {
   "codemirror_mode": {
    "name": "ipython",
    "version": 3
   },
   "file_extension": ".py",
   "mimetype": "text/x-python",
   "name": "python",
   "nbconvert_exporter": "python",
   "pygments_lexer": "ipython3",
   "version": "3.8.5"
  }
 },
 "nbformat": 4,
 "nbformat_minor": 4
}
