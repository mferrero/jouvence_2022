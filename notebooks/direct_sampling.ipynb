{
 "cells": [
  {
   "cell_type": "markdown",
   "metadata": {
    "cell_style": "center",
    "slideshow": {
     "slide_type": "slide"
    }
   },
   "source": [
    "# Direct sampling\n",
    "\n",
    "- Imagine I have a uniform random number generator giving number according to\n",
    "\n",
    "  \\begin{equation*}\n",
    "  \\pi_\\mathrm{uni}(x) = \\begin{cases}\n",
    "  1 & \\text{for} \\quad 0 \\le x < 1 \\\\\n",
    "  0 & \\text{otherwise}\n",
    "  \\end{cases}\n",
    "  \\end{equation*}\n",
    "\n",
    "- `numpy.random.rand()` generates such numbers.\n",
    "\n",
    "- How do I generate new distribution functions?\n",
    "\n",
    "- In some cases, this can be done and *independent* random variable are\n",
    "  obtained."
   ]
  },
  {
   "cell_type": "code",
   "execution_count": 1,
   "metadata": {
    "slideshow": {
     "slide_type": "notes"
    }
   },
   "outputs": [],
   "source": [
    "%matplotlib inline\n",
    "%config InlineBackend.figure_format = 'retina'\n",
    "import matplotlib.pyplot as plt\n",
    "import numpy as np\n",
    "plt.style.use('style.mpl')"
   ]
  },
  {
   "cell_type": "markdown",
   "metadata": {
    "cell_style": "center",
    "slideshow": {
     "slide_type": "slide"
    }
   },
   "source": [
    "# Tower sampling\n",
    "\n",
    "- Tower sampling allows to sample a discrete distribution.\n",
    "\n",
    "- We want to pick a number $\\{1, 2, \\ldots, n\\}$ with corresponding\n",
    "  probabilities $\\{ \\pi_1, \\pi_2, \\ldots, \\pi_n \\}$.\n",
    "\n",
    "- Construct the cumulative distribution $\\Pi_\\ell = \\sum_{i=1}^\\ell \\pi_i$\n",
    "  for $0 \\le \\ell \\le n$.\n",
    "  We have $\\Pi_n = 1$.\n",
    "\n",
    "- Draw a uniform random number $\\mu$ in $[0, 1[$.\n",
    "\n",
    "- Find $k$ such that $\\Pi_{k-1} \\le \\mu < \\Pi_k$.\n",
    "\n",
    "- The $k$'s are distributed according to $\\pi_k$."
   ]
  },
  {
   "cell_type": "markdown",
   "metadata": {
    "slideshow": {
     "slide_type": "slide"
    }
   },
   "source": [
    "- Below is a simple implementation of tower sampling.\n",
    "\n",
    "- It can be improved by sorting the $\\pi_i$."
   ]
  },
  {
   "cell_type": "code",
   "execution_count": 2,
   "metadata": {
    "slideshow": {
     "slide_type": "-"
    }
   },
   "outputs": [],
   "source": [
    "def tower_sampling(π):\n",
    "    Π = np.cumsum(π) # cumulative sum\n",
    "    μ = np.random.rand() # random number in [0,1[\n",
    "    k = 0\n",
    "    while True: # find k\n",
    "        if Π[k] > μ: break\n",
    "        k = k+1\n",
    "    return k+1"
   ]
  },
  {
   "cell_type": "code",
   "execution_count": 3,
   "metadata": {
    "slideshow": {
     "slide_type": "slide"
    }
   },
   "outputs": [],
   "source": [
    "π = [0.2, 0.1, 0.4, 0.15, 0.15]\n",
    "n_samples = 2**14\n",
    "samples = [tower_sampling(π) for i in range(n_samples)]"
   ]
  },
  {
   "cell_type": "code",
   "execution_count": 4,
   "metadata": {
    "slideshow": {
     "slide_type": "-"
    },
    "tags": [
     "to_remove"
    ]
   },
   "outputs": [
    {
     "data": {
      "image/png": "[encoded data removed]",
      "text/plain": [
       "<Figure size 700x400 with 1 Axes>"
      ]
     },
     "metadata": {
      "needs_background": "light"
     },
     "output_type": "display_data"
    }
   ],
   "source": [
    "fig, ax = plt.subplots()\n",
    "ax.hist(samples, bins=np.arange(0.5,6.5,1), ec='w', alpha=0.7, density=True, label=\"sampled\");\n",
    "ax.plot(np.arange(1,6), π, 'sr', label=\"expected\")\n",
    "ax.legend()\n",
    "ax.grid(alpha=0.3)\n",
    "ax.set_xlabel(\"$v_k$\")\n",
    "ax.set_ylabel(\"$\\pi_k$\");\n",
    "ax.set_title(\"Tower sampling\");"
   ]
  },
  {
   "cell_type": "markdown",
   "metadata": {
    "slideshow": {
     "slide_type": "slide"
    }
   },
   "source": [
    "# Continuous distribution\n",
    "\n",
    "- Let's try to extend the tower sampling to continuous distributions.\n",
    "\n",
    "- Discrete indices become continuous varialbles\n",
    "\n",
    "  \\begin{equation*}\n",
    "  \\{k, \\pi_k\\} \\quad \\to \\quad \\{x,\\pi(x)\\}\n",
    "  \\end{equation*}\n",
    "\n",
    "- Cumulative distribution function\n",
    "\n",
    "  \\begin{equation*}\n",
    "  \\Pi_k \\quad \\to \\quad \\Pi(x) = \\int_{-\\infty}^x \\pi(y) dy\n",
    "  \\end{equation*}\n",
    "\n",
    "- Draw a uniform random number $\\mu \\in [0, 1[$.\n",
    "\n",
    "- The original condition to find $k$ such that $\\Pi_{k-1} \\le \\mu < \\Pi_k$ now becomes\n",
    "  finding $x$ such that $\\Pi(x) = \\mu$, i.e.\n",
    "  \n",
    "  \\begin{equation*}\n",
    "  x = \\Pi^{-1}(\\mu)\n",
    "  \\end{equation*}\n",
    "\n",
    "- The sampled $x$'s are distributed according to $\\pi(x)$.\n",
    "\n",
    "- Unfortunately it is usually very difficult to find $\\Pi^{-1}$."
   ]
  },
  {
   "cell_type": "markdown",
   "metadata": {
    "slideshow": {
     "slide_type": "slide"
    }
   },
   "source": [
    "# Example (trivial)\n",
    "\n",
    "- Let's start from a very simple example, a uniform distribution\n",
    "  over $[a, b[$\n",
    "  \n",
    "    \\begin{equation*}\n",
    "    \\pi(x) =\n",
    "    \\begin{cases}\n",
    "    \\frac{1}{b-a} & \\text{for} \\quad a \\le x < b \\\\\n",
    "    0 & \\text{otherwise} \n",
    "    \\end{cases}\n",
    "    \\end{equation*}\n",
    "\n",
    "- The cumulative distribution function is\n",
    "\n",
    "  \\begin{equation*}\n",
    "  \\Pi(x) = \\int_a^x \\pi(y) dy = \\frac{x - a}{b - a}\n",
    "  \\qquad \\Pi^{-1}(\\mu) = a + (b-a) \\mu\n",
    "  \\end{equation*}\n",
    "\n",
    "- $x$ will be sampled according to $\\pi(x)$ if it is computed from a\n",
    "  uniform $\\mu \\in [0,1[$ with\n",
    "\n",
    "  \\begin{equation*}\n",
    "  x = a + (b-a) \\mu\n",
    "  \\end{equation*}"
   ]
  },
  {
   "cell_type": "markdown",
   "metadata": {
    "slideshow": {
     "slide_type": "slide"
    }
   },
   "source": [
    "# Example\n",
    "\n",
    "- Let us try to sample the exponential distribution for $x \\ge 0$\n",
    "\n",
    "  \\begin{equation*}\n",
    "  \\pi(x) = \\lambda \\mathrm{e}^{-\\lambda x}\n",
    "  \\end{equation*}\n",
    "\n",
    "- The cumulative distribution function is\n",
    "\n",
    "  \\begin{equation*}\n",
    "    \\Pi(x) =\\int_0^x \\pi(y) dy = \\left.-\\mathrm{e}^{-\\lambda y} \\right \\rvert_0^x = 1 - \\mathrm{e}^{-\\lambda x}\n",
    "    \\qquad\n",
    "    \\Pi^{-1}(\\mu) = -\\frac{1}{\\lambda} \\ln(1 - \\mu)\n",
    "  \\end{equation*}\n",
    "  \n",
    "- The distributions of $1-\\mu$ and $\\mu$ are the same, so we can sample\n",
    "  $x$ using\n",
    "  \n",
    "  \\begin{equation*}\n",
    "     x = -\\frac{1}{\\lambda} \\ln(\\mu)\n",
    "  \\end{equation*}"
   ]
  },
  {
   "cell_type": "code",
   "execution_count": 5,
   "metadata": {
    "slideshow": {
     "slide_type": "slide"
    }
   },
   "outputs": [],
   "source": [
    "λ = 0.5\n",
    "n_samples = 2**14\n",
    "samples = -np.log(np.random.rand(n_samples)) / λ"
   ]
  },
  {
   "cell_type": "code",
   "execution_count": 6,
   "metadata": {
    "slideshow": {
     "slide_type": "-"
    },
    "tags": [
     "to_remove"
    ]
   },
   "outputs": [
    {
     "data": {
      "image/png": "[encoded data removed]",
      "text/plain": [
       "<Figure size 700x400 with 1 Axes>"
      ]
     },
     "metadata": {
      "needs_background": "light"
     },
     "output_type": "display_data"
    }
   ],
   "source": [
    "fig, ax = plt.subplots()\n",
    "xr = np.linspace(0, 14, 1000)\n",
    "ax.hist(samples, bins=100, density=True, ec='w', alpha=0.5, label=\"sampled\");\n",
    "ax.plot(xr, λ * np.exp(-λ * xr), '--', color='red', label=\"$\\lambda \\exp(-\\lambda x)$\")\n",
    "ax.grid(alpha=0.3)\n",
    "ax.set_xlim(0, 14)\n",
    "ax.set_xlabel(\"$x$\")\n",
    "ax.set_ylabel(\"$\\pi(x)$\");\n",
    "ax.set_title(\"Sampling exponential function\");\n",
    "ax.legend();"
   ]
  },
  {
   "cell_type": "markdown",
   "metadata": {
    "slideshow": {
     "slide_type": "slide"
    }
   },
   "source": [
    "# Summary\n",
    "\n",
    "- Similar tricks allow to generate the most common simple distributions, such\n",
    "  as the normal distribution, etc.\n",
    "\n",
    "- Generators for these distributions are available in libraries, e.g. `numpy.random`.\n",
    "\n",
    "- The values are all independent and often the generation is fast.\n",
    "\n",
    "- However, one must be able to invert the cumulative distribution function,\n",
    "  which is in general very difficult."
   ]
  },
  {
   "cell_type": "markdown",
   "metadata": {
    "slideshow": {
     "slide_type": "slide"
    }
   },
   "source": [
    "# Outline\n",
    "    \n",
    "- [Introduction to Monte Carlo](intro_monte_carlo.slides.html)\n",
    "\n",
    "- [Newton–Cotes quadrature](newton_cotes.slides.html)\n",
    "  \n",
    "- [Importance sampling](importance_sampling.slides.html)\n",
    "\n",
    "- [Direct sampling methods](direct_sampling.slides.html)\n",
    "\n",
    "- [Markov chain sampling and balance condition](markov_chain.slides.html)\n",
    "\n",
    "- [Metropolis-Hastings algorithm](metropolis_hastings.slides.html)\n",
    "\n",
    "- [The two-dimensional Ising model](ising.slides.html)\n",
    "\n",
    "- [Error bar analysis](error_analysis.slides.html)\n",
    "  \n",
    "- [References](references.slides.html)"
   ]
  }
 ],
 "metadata": {
  "celltoolbar": "Slideshow",
  "kernelspec": {
   "display_name": "Python 3",
   "language": "python",
   "name": "python3"
  },
  "language_info": {
   "codemirror_mode": {
    "name": "ipython",
    "version": 3
   },
   "file_extension": ".py",
   "mimetype": "text/x-python",
   "name": "python",
   "nbconvert_exporter": "python",
   "pygments_lexer": "ipython3",
   "version": "3.8.5"
  }
 },
 "nbformat": 4,
 "nbformat_minor": 4
}
