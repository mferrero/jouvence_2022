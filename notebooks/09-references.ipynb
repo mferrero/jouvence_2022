{
 "cells": [
  {
   "cell_type": "markdown",
   "metadata": {
    "slideshow": {
     "slide_type": "slide"
    }
   },
   "source": [
    "# References\n",
    "\n",
    "\n",
    "- W. Krauth, *Statistical Mechanics: Algorithms and Computations*, Oxford University Press, 2006.\n",
    "\n",
    "- N. Metropolis, A. W. Rosenbluth, M. N. Rosenbluth, A. H. Teller, and E. Teller, *Equation of State Calculations by Fast Computing Machines*, [J. Chem. Phys. **21**, 1087 (1953)](https://aip.scitation.org/doi/abs/10.1063/1.1699114).\n",
    "\n",
    "- Adrian Del Maestro, *Introduction to classical Monte Carlo methods*, [github repository](https://github.com/agdelma/IntroMonteCarlo).\n",
    "\n",
    "- P. Young, *Everything You Wanted to Know About Data Analysis and Fitting but Were Afraid to Ask*,\n",
    "  [arXiv:1210.3781 (2012)](https://arxiv.org/abs/1210.3781).\n",
    "\n",
    "- V. Ambegaokar and M. Troyer, *Estimating errors reliably in Monte Carlo simulations of the Ehrenfest model*, [Am. J. of Phys. **78**, 150 (2010)](https://doi.org/10.1119/1.3247985)."
   ]
  },
  {
   "cell_type": "markdown",
   "metadata": {
    "slideshow": {
     "slide_type": "slide"
    }
   },
   "source": [
    "# Outline\n",
    "    \n",
    "- [Introduction to Monte Carlo](01-intro_monte_carlo.slides.html)\n",
    "\n",
    "- [Newton–Cotes quadrature](02-newton_cotes.slides.html)\n",
    "  \n",
    "- [Importance sampling](03-importance_sampling.slides.html)\n",
    "\n",
    "- [Direct sampling methods](04-direct_sampling.slides.html)\n",
    "\n",
    "- [Markov chain sampling and balance condition](05-markov_chain.slides.html)\n",
    "\n",
    "- [Metropolis-Hastings algorithm](06-metropolis_hastings.slides.html)\n",
    "\n",
    "- [The two-dimensional Ising model](07-ising.slides.html)\n",
    "\n",
    "- [Error bar analysis](08-error_analysis.slides.html)\n",
    "  \n",
    "- [References](09-references.slides.html)"
   ]
  }
 ],
 "metadata": {
  "kernelspec": {
   "display_name": "Python 3",
   "language": "python",
   "name": "python3"
  },
  "language_info": {
   "codemirror_mode": {
    "name": "ipython",
    "version": 3
   },
   "file_extension": ".py",
   "mimetype": "text/x-python",
   "name": "python",
   "nbconvert_exporter": "python",
   "pygments_lexer": "ipython3",
   "version": "3.8.5"
  }
 },
 "nbformat": 4,
 "nbformat_minor": 4
}
