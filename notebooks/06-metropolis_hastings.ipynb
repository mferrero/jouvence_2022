{
 "cells": [
  {
   "cell_type": "markdown",
   "metadata": {
    "cell_style": "center",
    "slideshow": {
     "slide_type": "slide"
    }
   },
   "source": [
    "# Metropolis-Hastings algorithm (1953)\n",
    "\n",
    "- It is a very general Markov chain Monte Carlo algorithm.\n",
    "\n",
    "- It is based on an **acceptance-rejection scheme**: a new element is proposed and accepted\n",
    "  with a well-chosen probability. If the proposal is rejected, the next element in\n",
    "  the chain is the same. We can therefore write the transition probability as\n",
    "  \n",
    "  \\begin{equation*}\n",
    "    p(x \\to y) = T(x \\to y) A(x \\to y)\n",
    "  \\end{equation*}\n",
    "  \n",
    "- $T(x \\to y)$ is the probability to propose $y$ after being in $x$. It can be chosen\n",
    "  freely! It should only ensure *ergodicity*, namely that any element can be reached\n",
    "  \n",
    "- $A(x \\to y)$ is the probability that the proposed $y$ is accepted. In the Metropolis-Hastings\n",
    "  algorithm it is\n",
    "  \n",
    "  \\begin{equation*}\n",
    "    A(x \\to y) = \\min \\left( 1, \\frac{T(y \\to x) \\, \\pi(y)}{T(x \\to y) \\, \\pi(x)} \\right)\n",
    "  \\end{equation*}"
   ]
  },
  {
   "cell_type": "code",
   "execution_count": 1,
   "metadata": {
    "slideshow": {
     "slide_type": "notes"
    }
   },
   "outputs": [],
   "source": [
    "%matplotlib inline\n",
    "%config InlineBackend.figure_format = 'retina'\n",
    "import matplotlib.pyplot as plt\n",
    "import numpy as np\n",
    "plt.style.use('style.mpl')"
   ]
  },
  {
   "cell_type": "markdown",
   "metadata": {
    "cell_style": "center",
    "slideshow": {
     "slide_type": "slide"
    }
   },
   "source": [
    "# Detailed balance\n",
    "\n",
    "- Let's check that the Metropolis-Hastings transition probability satisfies the\n",
    "  detailed balance condition\n",
    "  \n",
    "  \\begin{equation*}\n",
    "  \\pi(x) \\, p(x \\to y) = \\pi(y) \\, p(y \\to x)\n",
    "  \\end{equation*}\n",
    "  \n",
    "- We suppose $\\pi(y) T(y \\to x) < \\pi(x) T(x \\to y)$, then\n",
    "\n",
    "  \\begin{align*}\n",
    "  \\pi(x) \\, p(x \\to y) &=\n",
    "  \\pi(x) \\, T(x \\to y) A(x \\to y) \\\\\n",
    "  &= \\pi(x) \\, T(x \\to y) \\frac{T(y \\to x) \\pi(y)}{T(x \\to y) \\pi(x)} \\\\\n",
    "  &= \\pi(y) \\, T(y \\to x) \\times 1 \\\\\n",
    "  &= \\pi(y) \\, T(y \\to x) A(y \\to x) = \\pi(y) \\, p(y \\to x)\n",
    "  \\end{align*}\n",
    "    \n",
    "- The same result is obtained by supposing $\\pi(y) T(y \\to x) > \\pi(x) T(x \\to y)$."
   ]
  },
  {
   "cell_type": "markdown",
   "metadata": {
    "slideshow": {
     "slide_type": "slide"
    }
   },
   "source": [
    "# Example: the non-uniform pebble game\n",
    "\n",
    "- Consider a $3 \\times 3$ tiling. A pebble is sitting on one of the\n",
    "  tiles $k \\in \\{0, \\ldots, 8\\}$.\n",
    "  \n",
    "- This time, we want to move the pebble in way that the probability\n",
    "  to find it on the tilke $k$ is some given $\\pi_k$.\n",
    "\n",
    "- Let's define the transition probability\n",
    "\n",
    "  \\begin{equation*}\n",
    "    T(x \\to y) = \\begin{cases}\n",
    "    1/n(x) & \\text{if $y$ is a neighbor of $x$} \\\\\n",
    "    0 & \\text{otherwise}\n",
    "    \\end{cases}\n",
    "  \\end{equation*}\n",
    "  \n",
    "  where $n(x)$ is the number of neighbors of $x$.\n",
    "\n",
    "- The acceptance probability is\n",
    "\n",
    "  \\begin{equation*}\n",
    "    A(x \\to y) = \\min \\left( 1, \\frac{\\pi_y \\, T(y \\to x)}{\\pi_x \\, T(x \\to y)} \\right)\n",
    "  \\end{equation*}"
   ]
  },
  {
   "cell_type": "markdown",
   "metadata": {
    "slideshow": {
     "slide_type": "slide"
    }
   },
   "source": [
    "- Let's try a target distribution\n",
    "\n",
    "  \\begin{equation*}\n",
    "  \\pi_k = \\begin{cases}\n",
    "  0.15 & \\text{if $k$ is even} \\\\\n",
    "  0.0625 & \\text{if $k$ is odd}\n",
    "  \\end{cases}\n",
    "  \\end{equation*}\n",
    "  \n",
    "- You can check that it is normalized"
   ]
  },
  {
   "cell_type": "code",
   "execution_count": 2,
   "metadata": {
    "slideshow": {
     "slide_type": "-"
    }
   },
   "outputs": [
    {
     "name": "stdout",
     "output_type": "stream",
     "text": [
      "Normalization:  1.0\n"
     ]
    }
   ],
   "source": [
    "# some target distribution\n",
    "L = 3\n",
    "π = np.zeros(L**2)\n",
    "for i in range(L**2):\n",
    "    π[i] = 0.15 if i%2==0 else 0.0625\n",
    "print(\"Normalization: \", np.sum(π))"
   ]
  },
  {
   "cell_type": "code",
   "execution_count": 3,
   "metadata": {
    "slideshow": {
     "slide_type": "slide"
    }
   },
   "outputs": [
    {
     "name": "stdout",
     "output_type": "stream",
     "text": [
      "Table of neighbors\n",
      "0 [3, 1]\n",
      "1 [4, 0, 2]\n",
      "2 [5, 1]\n",
      "3 [0, 6, 4]\n",
      "4 [1, 7, 3, 5]\n",
      "5 [2, 8, 4]\n",
      "6 [3, 7]\n",
      "7 [4, 6, 8]\n",
      "8 [5, 7]\n"
     ]
    }
   ],
   "source": [
    "# build table of neighbors\n",
    "neighbors = {}\n",
    "shifts = [(-1,0), (1,0), (0,-1), (0,1)]\n",
    "for i in range(L**2):\n",
    "    neighbors[i] = []\n",
    "    coord = np.array(np.unravel_index(i, [L,L]))\n",
    "    for shift in shifts:\n",
    "        try:\n",
    "            neighbors[i].append(np.ravel_multi_index(coord+shift, [L,L]))\n",
    "        except: pass\n",
    "    \n",
    "print(\"Table of neighbors\")\n",
    "for i in range(L**2):\n",
    "    print(i, neighbors[i])"
   ]
  },
  {
   "cell_type": "code",
   "execution_count": 4,
   "metadata": {
    "slideshow": {
     "slide_type": "slide"
    }
   },
   "outputs": [],
   "source": [
    "# Metropolis-Hastings\n",
    "n_samples = 2**15\n",
    "samples = np.zeros(n_samples, dtype=int)\n",
    "\n",
    "k = 0\n",
    "for i in range(n_samples):\n",
    "    \n",
    "    # propose a neighbor of k with equal probability\n",
    "    proposed_k = np.random.choice(neighbors[k])\n",
    "    \n",
    "    # compute acceptance probability\n",
    "    t_forward = 1 / len(neighbors[k])\n",
    "    t_backward = 1 / len(neighbors[proposed_k])\n",
    "    accept_prob = π[proposed_k] * t_backward / (π[k] * t_forward)\n",
    "    \n",
    "    # accept or reject\n",
    "    if np.random.rand() < accept_prob:\n",
    "        k = proposed_k\n",
    "        \n",
    "    samples[i] = k"
   ]
  },
  {
   "cell_type": "code",
   "execution_count": 5,
   "metadata": {
    "slideshow": {
     "slide_type": "slide"
    },
    "tags": [
     "to_remove"
    ]
   },
   "outputs": [
    {
     "data": {
      "image/png": "[encoded data removed]",
      "text/plain": [
       "<Figure size 576x360 with 1 Axes>"
      ]
     },
     "metadata": {
      "image/png": {
       "height": 364,
       "width": 545
      },
      "needs_background": "light"
     },
     "output_type": "display_data"
    }
   ],
   "source": [
    "fig, ax = plt.subplots()\n",
    "ax.hist(samples, bins=np.arange(-0.5, L**2+0.5), density=True, ec='w', alpha=0.7, label='sampled')\n",
    "ax.plot(π, 'rs', label=\"expected\")\n",
    "ax.legend()\n",
    "ax.grid(alpha=0.3)\n",
    "ax.set_xlabel(\"tile $k$\")\n",
    "ax.set_ylabel(\"$\\pi_k$\");\n",
    "ax.set_ylim(0, 0.25)\n",
    "ax.set_title(\"Non-uniform pebble game\");"
   ]
  },
  {
   "cell_type": "markdown",
   "metadata": {
    "slideshow": {
     "slide_type": "slide"
    }
   },
   "source": [
    "# Summary\n",
    "\n",
    "- The Metropolis-Hastings is a acceptance-rejection MCMC scheme.\n",
    "\n",
    "- It is very versatile with applications to many algorithms.\n",
    "\n",
    "- One must be very careful when computing the acceptance probability,\n",
    "  this is often where difficult bugs appear.\n",
    "  \n",
    "- Designing good proposal probabilities has important consequences on the\n",
    "  efficiency of a Metropolis-Hastings algorithm."
   ]
  },
  {
   "cell_type": "markdown",
   "metadata": {
    "slideshow": {
     "slide_type": "slide"
    }
   },
   "source": [
    "# Outline\n",
    "    \n",
    "- [Introduction to Monte Carlo](01-intro_monte_carlo.slides.html)\n",
    "\n",
    "- [Newton–Cotes quadrature](02-newton_cotes.slides.html)\n",
    "  \n",
    "- [Importance sampling](03-importance_sampling.slides.html)\n",
    "\n",
    "- [Direct sampling methods](04-direct_sampling.slides.html)\n",
    "\n",
    "- [Markov chain sampling and balance condition](05-markov_chain.slides.html)\n",
    "\n",
    "- [Metropolis-Hastings algorithm](06-metropolis_hastings.slides.html)\n",
    "\n",
    "- [The two-dimensional Ising model](07-ising.slides.html)\n",
    "\n",
    "- [Error bar analysis](08-error_analysis.slides.html)\n",
    "  \n",
    "- [References](09-references.slides.html)"
   ]
  }
 ],
 "metadata": {
  "kernelspec": {
   "display_name": "Python 3",
   "language": "python",
   "name": "python3"
  },
  "language_info": {
   "codemirror_mode": {
    "name": "ipython",
    "version": 3
   },
   "file_extension": ".py",
   "mimetype": "text/x-python",
   "name": "python",
   "nbconvert_exporter": "python",
   "pygments_lexer": "ipython3",
   "version": "3.8.5"
  }
 },
 "nbformat": 4,
 "nbformat_minor": 4
}
